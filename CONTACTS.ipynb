{
 "cells": [
  {
   "cell_type": "code",
   "execution_count": 91,
   "metadata": {},
   "outputs": [],
   "source": [
    "import tkinter as tk \n",
    "from tkinter import ttk \n",
    "from tkinter import messagebox"
   ]
  },
  {
   "cell_type": "code",
   "execution_count": 92,
   "metadata": {},
   "outputs": [
    {
     "data": {
      "text/plain": [
       "''"
      ]
     },
     "execution_count": 92,
     "metadata": {},
     "output_type": "execute_result"
    }
   ],
   "source": [
    "root=tk.Tk()\n",
    "root.geometry(\"800x500\")\n",
    "root.title(\"Contact Book\")\n",
    "root.iconbitmap(\"phone.ico\")"
   ]
  },
  {
   "cell_type": "code",
   "execution_count": 93,
   "metadata": {},
   "outputs": [],
   "source": [
    "frame=ttk.Frame(root)\n",
    "frame.pack()"
   ]
  },
  {
   "cell_type": "code",
   "execution_count": 94,
   "metadata": {},
   "outputs": [],
   "source": [
    "global slno\n",
    "slno=2\n",
    "def save():\n",
    "    if(ename.get()!=\"\" and enum.get()!=\"\" and eadd.get()!=\"\" and eid.get()!=\"\"):\n",
    "        global slno\n",
    "\n",
    "        treeview.insert(\"\",index=\"end\",iid=slno,values=(slno,ename.get(),enum.get(),eadd.get(),eid.get()))\n",
    "        ename.delete(0,\"end\")\n",
    "        enum.delete(0,\"end\")\n",
    "        eadd.delete(0,\"end\")\n",
    "        eid.delete(0,\"end\")\n",
    "        slno+=1\n",
    "        \n",
    "    else:\n",
    "        messagebox.showwarning(title=\"Entry Missing\", message=\"Entry for all the fields is required\")\n",
    "\n",
    "def select():\n",
    "    ename.delete(0,\"end\")\n",
    "    enum.delete(0,\"end\")\n",
    "    eadd.delete(0,\"end\")\n",
    "    eid.delete(0,\"end\")\n",
    "    \n",
    "    select=treeview.focus()\n",
    "    values=treeview.item(select,\"values\")\n",
    "    \n",
    "    ename.insert(0,values[1])\n",
    "    enum.insert(0,values[2])\n",
    "    eadd.insert(0,values[3])\n",
    "    eid.insert(0,values[4])\n",
    "   \n",
    "\n",
    "def update():\n",
    "    if(ename.get()!=\"\" and enum.get()!=\"\" and eadd.get()!=\"\" and eid.get()!=\"\"):\n",
    "        no=treeview.focus()[0]\n",
    "        select=treeview.focus()\n",
    "        treeview.insert(select,values=(no,ename.get(),enum.get(),eadd.get(),eid.get()))\n",
    "        ename.delete(0,\"end\")\n",
    "        enum.delete(0,\"end\")\n",
    "        eadd.delete(0,\"end\")\n",
    "        eid.delete(0,\"end\")\n",
    "\n",
    "def delete():\n",
    "    record=treeview.selection()[0]\n",
    "    treeview.delete(record)\n",
    "    \n",
    "    \n",
    "    ename.delete(0,\"end\")\n",
    "    enum.delete(0,\"end\")\n",
    "    eadd.delete(0,\"end\")\n",
    "    eid.delete(0,\"end\")\n",
    "    \n",
    "\n",
    "def delm():\n",
    "    record=treeview.selection()\n",
    "    for data in record:\n",
    "        treeview.delete()\n",
    "\n",
    "def dela():\n",
    "    for record in treeview.get_children():\n",
    "        treeview.delete(record)\n",
    "\n",
    "def clear():\n",
    "    ename.delete(0,\"end\")\n",
    "    enum.delete(0,\"end\")\n",
    "    eadd.delete(0,\"end\")\n",
    "    eid.delete(0,\"end\")"
   ]
  },
  {
   "cell_type": "code",
   "execution_count": null,
   "metadata": {},
   "outputs": [],
   "source": []
  },
  {
   "cell_type": "code",
   "execution_count": 95,
   "metadata": {},
   "outputs": [],
   "source": [
    "tname=ttk.Label(frame,text=\"Name : \",font=(\"Mistral\",15,\"bold\"),padding=(10))\n",
    "tname.grid(row=1,column=0)\n",
    "\n",
    "ename=ttk.Entry(frame,width=30,font=(\"Mistral\",15))\n",
    "ename.grid(row=1,column=1)\n",
    "\n",
    "\n",
    "tnum=ttk.Label(frame,text=\"Number : \",font=(\"Mistral\",15,\"bold\"),padding=(10))\n",
    "tnum.grid(row=2,column=0)\n",
    "\n",
    "enum=ttk.Entry(frame,width=30,font=(\"Mistral\",15))\n",
    "enum.grid(row=2,column=1)\n",
    "\n",
    "\n",
    "tadd=ttk.Label(frame,text=\"Address: \",font=(\"Mistral\",15,\"bold\"),padding=(10))\n",
    "tadd.grid(row=3,column=0)\n",
    "\n",
    "eadd=ttk.Entry(frame,width=30,font=(\"Mistral\",15))\n",
    "eadd.grid(row=3,column=1)\n",
    "\n",
    "tid=ttk.Label(frame,text=\"Mail-ID : \",font=(\"Mistral\",15,\"bold\"),padding=(10))\n",
    "tid.grid(row=4,column=0)\n",
    "\n",
    "eid=ttk.Entry(frame,width=30,font=(\"Mistral\",15))\n",
    "eid.grid(row=4,column=1)"
   ]
  },
  {
   "cell_type": "code",
   "execution_count": 96,
   "metadata": {
    "scrolled": true
   },
   "outputs": [],
   "source": [
    "frame1=ttk.Frame(root)\n",
    "frame1.pack()\n",
    "\n",
    "badd=tk.Button(frame1,text=\"SAVE\",bg=\"green\",fg=\"white\",command=save,padx=5,font=(\"Mistral\",15,\"bold\"))\n",
    "badd.grid(row=1,column=1,padx=5,pady=15)\n",
    "\n",
    "bselect=tk.Button(frame1,text=\"SELECT\",bg=\"yellow\",fg=\"white\",command=select,padx=5,font=(\"Mistral\",15,\"bold\"))\n",
    "bselect.grid(row=1,column=2,padx=5,pady=10)\n",
    "\n",
    "bupdate=tk.Button(frame1,text=\"UPDATE\",bg=\"blue\",fg=\"white\",command=update,padx=5,font=(\"Mistral\",15,\"bold\"))\n",
    "bupdate.grid(row=1,column=3,padx=5,pady=10)\n",
    "\n",
    "bdel=tk.Button(frame1,text=\"DELETE\",bg=\"violet\",fg=\"white\",command=delete,padx=5,font=(\"Mistral\",15,\"bold\"))\n",
    "bdel.grid(row=1,column=4,padx=5,pady=10)\n",
    "\n",
    "bdelm=tk.Button(frame1,text=\"DELETE MANY\",bg=\"orange\",fg=\"white\",command=delm,padx=5,font=(\"Mistral\",15,\"bold\"))\n",
    "bdelm.grid(row=1,column=5,padx=5,pady=10)\n",
    "\n",
    "bdela=tk.Button(frame1,text=\"DELETE ALL\",bg=\"Red\",fg=\"white\",command=dela,padx=5,font=(\"Mistral\",15,\"bold\"))\n",
    "bdela.grid(row=1,column=6,padx=5,pady=10)\n",
    "\n",
    "bclr=tk.Button(frame1,text=\"CLEAR\",bg=\"black\",fg=\"white\",command=clear,padx=5,font=(\"Mistral\",15,\"bold\"))\n",
    "bclr.grid(row=1,column=7,padx=5,pady=10)"
   ]
  },
  {
   "cell_type": "code",
   "execution_count": 97,
   "metadata": {},
   "outputs": [
    {
     "data": {
      "text/plain": [
       "{}"
      ]
     },
     "execution_count": 97,
     "metadata": {},
     "output_type": "execute_result"
    }
   ],
   "source": [
    "treeview=ttk.Treeview(root)\n",
    "treeview[\"columns\"]=(\"Sl.no\",\"NAME\",\"NUMBER\",\"ADDRESS\",\"MAILID\")\n",
    "\n",
    "treeview.column(\"#0\",width=0,stretch=\"NO\")\n",
    "treeview.column(\"#1\",width=20)\n",
    "treeview.column(\"#2\",width=120)\n",
    "treeview.column(\"#3\",width=120)\n",
    "treeview.column(\"#4\",width=180)\n",
    "treeview.column(\"#5\",width=180)\n",
    "\n",
    "treeview.heading(\"#0\",text=\"\")\n",
    "treeview.heading(\"#1\",text=\"Sl.no\")\n",
    "treeview.heading(\"#2\",text=\"NAME\")\n",
    "treeview.heading(\"#3\",text=\"NUMBER\")\n",
    "treeview.heading(\"#4\",text=\"ADDRESS\")\n",
    "treeview.heading(\"#5\",text=\"MAILID\")"
   ]
  },
  {
   "cell_type": "code",
   "execution_count": 98,
   "metadata": {},
   "outputs": [
    {
     "data": {
      "text/plain": [
       "'I001'"
      ]
     },
     "execution_count": 98,
     "metadata": {},
     "output_type": "execute_result"
    }
   ],
   "source": [
    "treeview.insert(\"\",index=0,values=(\"1\",\"lol\",\"lol\",\"lol\",\"lol\"))"
   ]
  },
  {
   "cell_type": "code",
   "execution_count": 99,
   "metadata": {},
   "outputs": [],
   "source": [
    "treeview.pack()"
   ]
  },
  {
   "cell_type": "code",
   "execution_count": null,
   "metadata": {},
   "outputs": [],
   "source": []
  },
  {
   "cell_type": "code",
   "execution_count": null,
   "metadata": {},
   "outputs": [],
   "source": []
  },
  {
   "cell_type": "code",
   "execution_count": null,
   "metadata": {},
   "outputs": [],
   "source": []
  },
  {
   "cell_type": "code",
   "execution_count": 100,
   "metadata": {},
   "outputs": [],
   "source": [
    "root.mainloop()"
   ]
  },
  {
   "cell_type": "code",
   "execution_count": null,
   "metadata": {},
   "outputs": [],
   "source": []
  }
 ],
 "metadata": {
  "kernelspec": {
   "display_name": "Python 3",
   "language": "python",
   "name": "python3"
  },
  "language_info": {
   "codemirror_mode": {
    "name": "ipython",
    "version": 3
   },
   "file_extension": ".py",
   "mimetype": "text/x-python",
   "name": "python",
   "nbconvert_exporter": "python",
   "pygments_lexer": "ipython3",
   "version": "3.7.4"
  }
 },
 "nbformat": 4,
 "nbformat_minor": 2
}
