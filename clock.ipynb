{
 "cells": [
  {
   "cell_type": "code",
   "execution_count": 2,
   "metadata": {},
   "outputs": [],
   "source": [
    "import tkinter as tk\n",
    "from tkinter import ttk\n",
    "from time import strftime\n",
    "\n",
    "root = tk.Tk() \n",
    "root.title(\"DIGITAL CLOCK\")  \n",
    "root.iconbitmap(\"digital-clock.ico\")\n",
    "\n",
    "\n",
    "def time():\n",
    "    string = strftime(\"%H:%M:%S %p\")\n",
    "    a.config(text = string)\n",
    "    a.after(1000, time)\n",
    "\n",
    "\n",
    "a=tk.Label(root, font = (\"Trajan Pro\", 160, \"bold\"),bg=\"black\",fg=\"white\")\n",
    "\n",
    "a.pack(anchor = \"center\",fill = \"both\",expand=1)\n",
    "\n",
    "time()  \n",
    "root.mainloop()  "
   ]
  },
  {
   "cell_type": "code",
   "execution_count": null,
   "metadata": {},
   "outputs": [],
   "source": []
  }
 ],
 "metadata": {
  "kernelspec": {
   "display_name": "Python 3",
   "language": "python",
   "name": "python3"
  },
  "language_info": {
   "codemirror_mode": {
    "name": "ipython",
    "version": 3
   },
   "file_extension": ".py",
   "mimetype": "text/x-python",
   "name": "python",
   "nbconvert_exporter": "python",
   "pygments_lexer": "ipython3",
   "version": "3.7.4"
  }
 },
 "nbformat": 4,
 "nbformat_minor": 2
}
